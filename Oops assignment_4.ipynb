{
 "cells": [
  {
   "cell_type": "code",
   "execution_count": null,
   "id": "7643421c-bb42-4e8c-a663-3dec757b6ba6",
   "metadata": {},
   "outputs": [],
   "source": [
    "#  Q1. Explain Class and Object with respect to Object-Oriented Programming. Give a suitable example.\n",
    "\n",
    "# Ans : An object is called an instance of a class. For example, suppose Bike is a class then we can create objects like bike1 , bike2 , etc from the class. Here's the syntax to create an object. Here, bike1 is the object of the class."
   ]
  },
  {
   "cell_type": "code",
   "execution_count": 1,
   "id": "72b8f7fb-2494-428a-b038-566d67ed84b4",
   "metadata": {},
   "outputs": [],
   "source": [
    "#  Q2. Name the four pillars of OOPs.\n",
    "\n",
    "#  Ans : There are four pillars of object-oriented programming. Inheritance, polymorphism, encapsulation, and abstraction#  "
   ]
  },
  {
   "cell_type": "code",
   "execution_count": 1,
   "id": "905a1de6-dca2-4028-8acb-9a231f751661",
   "metadata": {},
   "outputs": [
    {
     "name": "stdout",
     "output_type": "stream",
     "text": [
      "Hello, my name is Nikhil\n"
     ]
    }
   ],
   "source": [
    "#   Q3. Explain why the __init__() function is used. Give a suitable example.\n",
    "#   \n",
    "#  Ans:  The __init__ function is called every time an object is created from a class. The __init__ method lets the class initialize the object's attributes and serves no other purpose. It is only used within classes\n",
    "\n",
    "class Person:\n",
    "\n",
    "    def __init__(self, name):\n",
    "        self.name = name\n",
    "    def say_hi(self):\n",
    "        print('Hello, my name is', self.name)\n",
    " \n",
    " \n",
    "p = Person('Nikhil')\n",
    "p.say_hi()"
   ]
  },
  {
   "cell_type": "code",
   "execution_count": null,
   "id": "8efb4628-b7d1-417c-9574-5844427f4a55",
   "metadata": {},
   "outputs": [],
   "source": [
    "#  Q4. Why self is used in OOPs?\n",
    "#  \n",
    "#  Ans : The self variable is used to represent the instance of the class which is often used in object-oriented programming."
   ]
  },
  {
   "cell_type": "code",
   "execution_count": 2,
   "id": "9771c37e-a984-4296-80f2-9b1d3b1b3602",
   "metadata": {},
   "outputs": [
    {
     "name": "stdout",
     "output_type": "stream",
     "text": [
      "Satyam 102\n"
     ]
    }
   ],
   "source": [
    "#  Q5. What is inheritance? Give an example for each type of inheritance.\n",
    "#  \n",
    "#  Ans : Inheritance allows us to define a class that inherits all the methods and properties from another class\n",
    "\n",
    "# A Python program to demonstrate inheritance\n",
    " \n",
    "class Person(object):\n",
    "    \n",
    "   \n",
    "  # Constructor\n",
    "    def __init__(self, name, id):\n",
    "        self.name = name\n",
    "        self.id = id\n",
    " \n",
    "  # To check if this person is an employee\n",
    "    def Display(self):\n",
    "        print(self.name, self.id)\n",
    " \n",
    " \n",
    "# Driver code\n",
    "emp = Person(\"Satyam\", 102) # An Object of Person\n",
    "emp.Display()"
   ]
  },
  {
   "cell_type": "code",
   "execution_count": null,
   "id": "156420fc-301d-4f2e-8c71-1eab33a14053",
   "metadata": {},
   "outputs": [],
   "source": []
  },
  {
   "cell_type": "code",
   "execution_count": null,
   "id": "0350a596-d4e7-4398-8b6c-2173c73fc1cf",
   "metadata": {},
   "outputs": [],
   "source": []
  }
 ],
 "metadata": {
  "kernelspec": {
   "display_name": "Python 3 (ipykernel)",
   "language": "python",
   "name": "python3"
  },
  "language_info": {
   "codemirror_mode": {
    "name": "ipython",
    "version": 3
   },
   "file_extension": ".py",
   "mimetype": "text/x-python",
   "name": "python",
   "nbconvert_exporter": "python",
   "pygments_lexer": "ipython3",
   "version": "3.10.8"
  }
 },
 "nbformat": 4,
 "nbformat_minor": 5
}
